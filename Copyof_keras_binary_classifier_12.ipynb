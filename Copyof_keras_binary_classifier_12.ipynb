{
  "cells": [
    {
      "cell_type": "markdown",
      "metadata": {
        "id": "view-in-github",
        "colab_type": "text"
      },
      "source": [
        "<a href=\"https://colab.research.google.com/github/chukhman/lncRNAclassifier/blob/main/Copyof_keras_binary_classifier_12.ipynb\" target=\"_parent\"><img src=\"https://colab.research.google.com/assets/colab-badge.svg\" alt=\"Open In Colab\"/></a>"
      ]
    },
    {
      "cell_type": "code",
      "execution_count": null,
      "metadata": {
        "id": "xmgJcdXRUHi6"
      },
      "outputs": [],
      "source": [
        "import numpy as np\n",
        "import seaborn as sns\n",
        "import matplotlib.pyplot as plt\n",
        "from tensorflow.keras.models import Sequential\n",
        "from tensorflow.keras.layers import Dense\n",
        "from tensorflow.keras.layers import Dropout\n",
        "import matplotlib.pyplot as plt\n",
        "import numpy as np"
      ]
    },
    {
      "cell_type": "code",
      "execution_count": null,
      "metadata": {
        "id": "QgfBKL6jVvH5"
      },
      "outputs": [],
      "source": [
        "seed = 7\n",
        "# load dataset\n",
        "dataset = np.loadtxt(\"./sample_data/NewGencode4DLTraining2.csv\", delimiter=\",\")\n",
        "# split into input (X) and output (Y) variables\n",
        "X = dataset[:,0:12]\n",
        "Y = dataset[:,12]"
      ]
    },
    {
      "cell_type": "code",
      "execution_count": null,
      "metadata": {
        "colab": {
          "base_uri": "https://localhost:8080/"
        },
        "id": "WLAwjdg5WK3k",
        "outputId": "3dab3ff0-6615-4bd2-fc28-212f783fe9a3",
        "scrolled": true
      },
      "outputs": [
        {
          "name": "stdout",
          "output_type": "stream",
          "text": [
            "Unique values of the target variable [0. 1.]\n",
            "Counts of the target variable : [10010 17561]\n"
          ]
        }
      ],
      "source": [
        "(unique, counts) = np.unique(Y, return_counts=True)\n",
        "print('Unique values of the target variable', unique)\n",
        "print('Counts of the target variable :', counts)"
      ]
    },
    {
      "cell_type": "code",
      "execution_count": null,
      "metadata": {
        "colab": {
          "base_uri": "https://localhost:8080/",
          "height": 281
        },
        "id": "Mi541mrKWgS_",
        "outputId": "03262e08-c489-465b-a773-1610c48a8061"
      },
      "outputs": [
        {
          "data": {
            "image/png": "[encoded data removed]",
            "text/plain": [
              "<Figure size 432x288 with 1 Axes>"
            ]
          },
          "metadata": {},
          "output_type": "display_data"
        }
      ],
      "source": [
        "sns.barplot(x=[0,1],y=[10010, 17561])\n",
        "plt.title('Target variable counts in dataset')\n",
        "plt.show()"
      ]
    },
    {
      "cell_type": "code",
      "execution_count": null,
      "metadata": {
        "id": "oofisksMbeGu"
      },
      "outputs": [],
      "source": [
        "from sklearn.preprocessing import StandardScaler\n",
        "standardizer = StandardScaler()\n",
        "X = standardizer.fit_transform(X)"
      ]
    },
    {
      "cell_type": "code",
      "execution_count": null,
      "metadata": {
        "id": "ahDN3KbnbnQ-"
      },
      "outputs": [],
      "source": [
        "from sklearn.model_selection import train_test_split\n",
        "\n",
        "X_train, X_test, y_train, y_test = train_test_split(X, Y , test_size=0.25, random_state=0)"
      ]
    },
    {
      "cell_type": "code",
      "execution_count": null,
      "metadata": {
        "colab": {
          "base_uri": "https://localhost:8080/"
        },
        "id": "xA7RaL4Ybxc6",
        "outputId": "45ebc52d-3e9a-42d5-95c3-51c125904fe9"
      },
      "outputs": [
        {
          "data": {
            "text/plain": [
              "LogisticRegression()"
            ]
          },
          "execution_count": 8,
          "metadata": {},
          "output_type": "execute_result"
        }
      ],
      "source": [
        "from sklearn.linear_model import LogisticRegression\n",
        "model = LogisticRegression()\n",
        "model.fit(X_train, y_train)"
      ]
    },
    {
      "cell_type": "code",
      "execution_count": null,
      "metadata": {
        "id": "YDqLvKcebxWN"
      },
      "outputs": [],
      "source": [
        "predictions = model.predict(X_test)"
      ]
    },
    {
      "cell_type": "code",
      "execution_count": null,
      "metadata": {
        "colab": {
          "base_uri": "https://localhost:8080/"
        },
        "id": "Q6fpRBB-cEaf",
        "outputId": "cc089866-835f-499b-b8fc-1592e659d197"
      },
      "outputs": [
        {
          "name": "stdout",
          "output_type": "stream",
          "text": [
            "True Positive(TP)  =  4132\n",
            "False Positive(FP) =  143\n",
            "True Negative(TN)  =  2310\n",
            "False Negative(FN) =  308\n",
            "Accuracy of the binary classification = 0.935\n"
          ]
        }
      ],
      "source": [
        "from sklearn.metrics import confusion_matrix\n",
        "\n",
        "cm = confusion_matrix(y_test, predictions)\n",
        "\n",
        "TN, FP, FN, TP = confusion_matrix(y_test, predictions).ravel()\n",
        "\n",
        "print('True Positive(TP)  = ', TP)\n",
        "print('False Positive(FP) = ', FP)\n",
        "print('True Negative(TN)  = ', TN)\n",
        "print('False Negative(FN) = ', FN)\n",
        "\n",
        "accuracy =  (TP+TN) /(TP+FP+TN+FN)\n",
        "\n",
        "print('Accuracy of the binary classification = {:0.3f}'.format(accuracy))"
      ]
    },
    {
      "cell_type": "code",
      "execution_count": null,
      "metadata": {
        "colab": {
          "base_uri": "https://localhost:8080/"
        },
        "id": "0JY07F9pcTm1",
        "outputId": "9a4e8f22-619d-4427-fea7-91f04b7bdddd"
      },
      "outputs": [
        {
          "name": "stderr",
          "output_type": "stream",
          "text": [
            "/usr/local/lib/python3.7/dist-packages/sklearn/svm/_base.py:1208: ConvergenceWarning: Liblinear failed to converge, increase the number of iterations.\n",
            "  ConvergenceWarning,\n"
          ]
        }
      ],
      "source": [
        "models = {}\n",
        "\n",
        "# Gradient Boosting\n",
        "from sklearn.ensemble import GradientBoostingClassifier\n",
        "models['GradientBoosting'] = GradientBoostingClassifier()\n",
        "\n",
        "# Logistic Regression\n",
        "from sklearn.linear_model import LogisticRegression\n",
        "models['Logistic Regression'] = LogisticRegression()\n",
        "\n",
        "# Support Vector Machines\n",
        "from sklearn.svm import LinearSVC\n",
        "models['Support Vector Machines'] = LinearSVC()\n",
        "\n",
        "# Decision Trees\n",
        "from sklearn.tree import DecisionTreeClassifier\n",
        "models['Decision Trees'] = DecisionTreeClassifier()\n",
        "\n",
        "# Random Forest\n",
        "from sklearn.ensemble import RandomForestClassifier\n",
        "models['Random Forest'] = RandomForestClassifier()\n",
        "\n",
        "# Naive Bayes\n",
        "from sklearn.naive_bayes import GaussianNB\n",
        "models['Naive Bayes'] = GaussianNB()\n",
        "\n",
        "# K-Nearest Neighbors\n",
        "from sklearn.neighbors import KNeighborsClassifier\n",
        "models['K-Nearest Neighbor'] = KNeighborsClassifier()\n",
        "from sklearn.metrics import accuracy_score, precision_score, recall_score\n",
        "\n",
        "accuracy, precision, recall = {}, {}, {}\n",
        "\n",
        "for key in models.keys():\n",
        "    \n",
        "    # Fit the classifier model\n",
        "    models[key].fit(X_train, y_train)\n",
        "    \n",
        "    # Prediction \n",
        "    predictions = models[key].predict(X_test)\n",
        "    \n",
        "    # Calculate Accuracy, Precision and Recall Metrics\n",
        "    accuracy[key] = accuracy_score(predictions, y_test)\n",
        "    precision[key] = precision_score(predictions, y_test)\n",
        "    recall[key] = recall_score(predictions, y_test)"
      ]
    },
    {
      "cell_type": "code",
      "execution_count": null,
      "metadata": {
        "colab": {
          "background_save": true,
          "base_uri": "https://localhost:8080/"
        },
        "id": "61BYVYg4cgeI",
        "outputId": "4021cd5c-1605-4e22-f7b3-0578b7a906e4"
      },
      "outputs": [
        {
          "name": "stdout",
          "output_type": "stream",
          "text": [
            "Model: \"sequential_2\"\n",
            "_________________________________________________________________\n",
            " Layer (type)                Output Shape              Param #   \n",
            "=================================================================\n",
            " dense_8 (Dense)             (None, 128)               1664      \n",
            "                                                                 \n",
            " dropout_4 (Dropout)         (None, 128)               0         \n",
            "                                                                 \n",
            " dense_9 (Dense)             (None, 20)                2580      \n",
            "                                                                 \n",
            " dropout_5 (Dropout)         (None, 20)                0         \n",
            "                                                                 \n",
            " dense_10 (Dense)            (None, 12)                252       \n",
            "                                                                 \n",
            " dense_11 (Dense)            (None, 1)                 13        \n",
            "                                                                 \n",
            "=================================================================\n",
            "Total params: 4,509\n",
            "Trainable params: 4,509\n",
            "Non-trainable params: 0\n",
            "_________________________________________________________________\n",
            "Epoch 1/80\n",
            "324/324 [==============================] - 2s 3ms/step - loss: 0.2999 - accuracy: 0.8870 - val_loss: 0.2400 - val_accuracy: 0.9147\n",
            "Epoch 2/80\n",
            "324/324 [==============================] - 1s 3ms/step - loss: 0.2263 - accuracy: 0.9151 - val_loss: 0.2335 - val_accuracy: 0.9237\n",
            "Epoch 3/80\n",
            "324/324 [==============================] - 1s 3ms/step - loss: 0.2099 - accuracy: 0.9219 - val_loss: 0.2307 - val_accuracy: 0.9267\n",
            "Epoch 4/80\n",
            "324/324 [==============================] - 1s 2ms/step - loss: 0.2001 - accuracy: 0.9262 - val_loss: 0.2220 - val_accuracy: 0.9320\n",
            "Epoch 5/80\n",
            "324/324 [==============================] - 1s 3ms/step - loss: 0.1959 - accuracy: 0.9286 - val_loss: 0.2184 - val_accuracy: 0.9343\n",
            "Epoch 6/80\n",
            "324/324 [==============================] - 1s 3ms/step - loss: 0.1877 - accuracy: 0.9322 - val_loss: 0.2205 - val_accuracy: 0.9363\n",
            "Epoch 7/80\n",
            "324/324 [==============================] - 1s 3ms/step - loss: 0.1826 - accuracy: 0.9346 - val_loss: 0.2219 - val_accuracy: 0.9366\n",
            "Epoch 8/80\n",
            "324/324 [==============================] - 1s 3ms/step - loss: 0.1836 - accuracy: 0.9335 - val_loss: 0.2282 - val_accuracy: 0.9388\n",
            "Epoch 9/80\n",
            "324/324 [==============================] - 1s 2ms/step - loss: 0.1794 - accuracy: 0.9357 - val_loss: 0.2344 - val_accuracy: 0.9357\n",
            "Epoch 10/80\n",
            "324/324 [==============================] - 1s 2ms/step - loss: 0.1792 - accuracy: 0.9368 - val_loss: 0.2325 - val_accuracy: 0.9378\n",
            "Epoch 11/80\n",
            "324/324 [==============================] - 1s 2ms/step - loss: 0.1752 - accuracy: 0.9380 - val_loss: 0.2238 - val_accuracy: 0.9418\n",
            "Epoch 12/80\n",
            "324/324 [==============================] - 1s 2ms/step - loss: 0.1751 - accuracy: 0.9384 - val_loss: 0.2324 - val_accuracy: 0.9421\n",
            "Epoch 13/80\n",
            "324/324 [==============================] - 1s 2ms/step - loss: 0.1722 - accuracy: 0.9402 - val_loss: 0.2300 - val_accuracy: 0.9412\n",
            "Epoch 14/80\n",
            "324/324 [==============================] - 1s 4ms/step - loss: 0.1698 - accuracy: 0.9402 - val_loss: 0.2324 - val_accuracy: 0.9433\n",
            "Epoch 15/80\n",
            "324/324 [==============================] - 1s 4ms/step - loss: 0.1691 - accuracy: 0.9401 - val_loss: 0.2344 - val_accuracy: 0.9424\n",
            "Epoch 16/80\n",
            "324/324 [==============================] - 1s 3ms/step - loss: 0.1669 - accuracy: 0.9407 - val_loss: 0.2346 - val_accuracy: 0.9434\n",
            "Epoch 17/80\n",
            "324/324 [==============================] - 1s 2ms/step - loss: 0.1672 - accuracy: 0.9404 - val_loss: 0.2291 - val_accuracy: 0.9446\n",
            "Epoch 18/80\n",
            "324/324 [==============================] - 1s 2ms/step - loss: 0.1668 - accuracy: 0.9423 - val_loss: 0.2329 - val_accuracy: 0.9420\n",
            "Epoch 19/80\n",
            "324/324 [==============================] - 1s 2ms/step - loss: 0.1636 - accuracy: 0.9432 - val_loss: 0.2287 - val_accuracy: 0.9434\n",
            "Epoch 20/80\n",
            "324/324 [==============================] - 1s 2ms/step - loss: 0.1652 - accuracy: 0.9440 - val_loss: 0.2278 - val_accuracy: 0.9443\n",
            "Epoch 21/80\n",
            "324/324 [==============================] - 1s 2ms/step - loss: 0.1645 - accuracy: 0.9428 - val_loss: 0.2316 - val_accuracy: 0.9426\n",
            "Epoch 22/80\n",
            "324/324 [==============================] - 1s 2ms/step - loss: 0.1635 - accuracy: 0.9431 - val_loss: 0.2195 - val_accuracy: 0.9450\n",
            "Epoch 23/80\n",
            "324/324 [==============================] - 1s 2ms/step - loss: 0.1601 - accuracy: 0.9436 - val_loss: 0.2210 - val_accuracy: 0.9450\n",
            "Epoch 24/80\n",
            "324/324 [==============================] - 1s 2ms/step - loss: 0.1613 - accuracy: 0.9433 - val_loss: 0.2224 - val_accuracy: 0.9450\n",
            "Epoch 25/80\n",
            "324/324 [==============================] - 1s 3ms/step - loss: 0.1593 - accuracy: 0.9435 - val_loss: 0.2214 - val_accuracy: 0.9460\n",
            "Epoch 26/80\n",
            "324/324 [==============================] - 1s 3ms/step - loss: 0.1600 - accuracy: 0.9439 - val_loss: 0.2149 - val_accuracy: 0.9455\n",
            "Epoch 27/80\n",
            "324/324 [==============================] - 1s 2ms/step - loss: 0.1577 - accuracy: 0.9438 - val_loss: 0.2047 - val_accuracy: 0.9440\n",
            "Epoch 28/80\n",
            "324/324 [==============================] - 1s 2ms/step - loss: 0.1573 - accuracy: 0.9448 - val_loss: 0.2023 - val_accuracy: 0.9431\n",
            "Epoch 29/80\n",
            "324/324 [==============================] - 1s 2ms/step - loss: 0.1544 - accuracy: 0.9461 - val_loss: 0.2104 - val_accuracy: 0.9459\n",
            "Epoch 30/80\n",
            "324/324 [==============================] - 1s 2ms/step - loss: 0.1577 - accuracy: 0.9454 - val_loss: 0.2139 - val_accuracy: 0.9462\n",
            "Epoch 31/80\n",
            "324/324 [==============================] - 1s 2ms/step - loss: 0.1547 - accuracy: 0.9461 - val_loss: 0.2119 - val_accuracy: 0.9427\n",
            "Epoch 32/80\n",
            "324/324 [==============================] - 1s 3ms/step - loss: 0.1539 - accuracy: 0.9455 - val_loss: 0.2019 - val_accuracy: 0.9455\n",
            "Epoch 33/80\n",
            "324/324 [==============================] - 1s 2ms/step - loss: 0.1561 - accuracy: 0.9448 - val_loss: 0.1969 - val_accuracy: 0.9447\n",
            "Epoch 34/80\n",
            "324/324 [==============================] - 1s 2ms/step - loss: 0.1515 - accuracy: 0.9465 - val_loss: 0.1911 - val_accuracy: 0.9457\n",
            "Epoch 35/80\n",
            "324/324 [==============================] - 1s 2ms/step - loss: 0.1536 - accuracy: 0.9450 - val_loss: 0.2048 - val_accuracy: 0.9443\n",
            "Epoch 36/80\n",
            "324/324 [==============================] - 1s 2ms/step - loss: 0.1533 - accuracy: 0.9456 - val_loss: 0.1886 - val_accuracy: 0.9472\n",
            "Epoch 37/80\n",
            "324/324 [==============================] - 1s 3ms/step - loss: 0.1516 - accuracy: 0.9463 - val_loss: 0.1856 - val_accuracy: 0.9453\n",
            "Epoch 38/80\n",
            "324/324 [==============================] - 1s 2ms/step - loss: 0.1514 - accuracy: 0.9470 - val_loss: 0.1897 - val_accuracy: 0.9466\n",
            "Epoch 39/80\n",
            "324/324 [==============================] - 1s 3ms/step - loss: 0.1500 - accuracy: 0.9470 - val_loss: 0.1983 - val_accuracy: 0.9456\n",
            "Epoch 40/80\n",
            "324/324 [==============================] - 1s 2ms/step - loss: 0.1567 - accuracy: 0.9467 - val_loss: 0.1894 - val_accuracy: 0.9444\n",
            "Epoch 41/80\n",
            "324/324 [==============================] - 1s 2ms/step - loss: 0.1500 - accuracy: 0.9456 - val_loss: 0.1846 - val_accuracy: 0.9462\n",
            "Epoch 42/80\n",
            "324/324 [==============================] - 1s 3ms/step - loss: 0.1512 - accuracy: 0.9473 - val_loss: 0.1985 - val_accuracy: 0.9466\n",
            "Epoch 43/80\n",
            "324/324 [==============================] - 1s 2ms/step - loss: 0.1479 - accuracy: 0.9475 - val_loss: 0.1916 - val_accuracy: 0.9455\n",
            "Epoch 44/80\n",
            "324/324 [==============================] - 1s 2ms/step - loss: 0.1500 - accuracy: 0.9464 - val_loss: 0.1936 - val_accuracy: 0.9439\n",
            "Epoch 45/80\n",
            "324/324 [==============================] - 1s 2ms/step - loss: 0.1491 - accuracy: 0.9471 - val_loss: 0.1987 - val_accuracy: 0.9444\n",
            "Epoch 46/80\n",
            "324/324 [==============================] - 1s 3ms/step - loss: 0.1501 - accuracy: 0.9472 - val_loss: 0.1994 - val_accuracy: 0.9450\n",
            "Epoch 47/80\n",
            "324/324 [==============================] - 2s 6ms/step - loss: 0.1481 - accuracy: 0.9466 - val_loss: 0.1891 - val_accuracy: 0.9465\n",
            "Epoch 48/80\n",
            "324/324 [==============================] - 1s 3ms/step - loss: 0.1474 - accuracy: 0.9482 - val_loss: 0.1981 - val_accuracy: 0.9469\n",
            "Epoch 49/80\n",
            "324/324 [==============================] - 1s 3ms/step - loss: 0.1491 - accuracy: 0.9481 - val_loss: 0.1905 - val_accuracy: 0.9441\n",
            "Epoch 50/80\n",
            "324/324 [==============================] - 1s 2ms/step - loss: 0.1452 - accuracy: 0.9486 - val_loss: 0.2056 - val_accuracy: 0.9452\n",
            "Epoch 51/80\n",
            "324/324 [==============================] - 1s 2ms/step - loss: 0.1474 - accuracy: 0.9480 - val_loss: 0.2026 - val_accuracy: 0.9449\n",
            "Epoch 52/80\n",
            "324/324 [==============================] - 1s 3ms/step - loss: 0.1474 - accuracy: 0.9478 - val_loss: 0.1853 - val_accuracy: 0.9476\n",
            "Epoch 53/80\n",
            "324/324 [==============================] - 1s 2ms/step - loss: 0.1459 - accuracy: 0.9498 - val_loss: 0.1972 - val_accuracy: 0.9449\n",
            "Epoch 54/80\n",
            "324/324 [==============================] - 1s 2ms/step - loss: 0.1476 - accuracy: 0.9486 - val_loss: 0.1916 - val_accuracy: 0.9460\n",
            "Epoch 55/80\n",
            "324/324 [==============================] - 1s 2ms/step - loss: 0.1468 - accuracy: 0.9486 - val_loss: 0.1972 - val_accuracy: 0.9462\n",
            "Epoch 56/80\n",
            "324/324 [==============================] - 1s 3ms/step - loss: 0.1455 - accuracy: 0.9473 - val_loss: 0.1961 - val_accuracy: 0.9456\n",
            "Epoch 57/80\n",
            "324/324 [==============================] - 1s 3ms/step - loss: 0.1449 - accuracy: 0.9488 - val_loss: 0.1952 - val_accuracy: 0.9469\n",
            "Epoch 58/80\n",
            "324/324 [==============================] - 1s 2ms/step - loss: 0.1449 - accuracy: 0.9485 - val_loss: 0.1905 - val_accuracy: 0.9460\n",
            "Epoch 59/80\n",
            "324/324 [==============================] - 1s 2ms/step - loss: 0.1451 - accuracy: 0.9483 - val_loss: 0.1995 - val_accuracy: 0.9470\n",
            "Epoch 60/80\n",
            "324/324 [==============================] - 1s 2ms/step - loss: 0.1437 - accuracy: 0.9480 - val_loss: 0.1957 - val_accuracy: 0.9466\n",
            "Epoch 61/80\n",
            "324/324 [==============================] - 1s 2ms/step - loss: 0.1431 - accuracy: 0.9492 - val_loss: 0.1912 - val_accuracy: 0.9469\n",
            "Epoch 62/80\n",
            "324/324 [==============================] - 1s 3ms/step - loss: 0.1491 - accuracy: 0.9494 - val_loss: 0.1987 - val_accuracy: 0.9449\n",
            "Epoch 63/80\n",
            "324/324 [==============================] - 1s 3ms/step - loss: 0.1428 - accuracy: 0.9487 - val_loss: 0.2008 - val_accuracy: 0.9447\n",
            "Epoch 64/80\n",
            "324/324 [==============================] - 1s 2ms/step - loss: 0.1454 - accuracy: 0.9488 - val_loss: 0.1988 - val_accuracy: 0.9447\n",
            "Epoch 65/80\n",
            "324/324 [==============================] - 1s 2ms/step - loss: 0.1420 - accuracy: 0.9504 - val_loss: 0.1963 - val_accuracy: 0.9449\n",
            "Epoch 66/80\n",
            "324/324 [==============================] - 1s 2ms/step - loss: 0.1435 - accuracy: 0.9493 - val_loss: 0.1819 - val_accuracy: 0.9470\n",
            "Epoch 67/80\n",
            "324/324 [==============================] - 1s 2ms/step - loss: 0.1418 - accuracy: 0.9494 - val_loss: 0.1915 - val_accuracy: 0.9453\n",
            "Epoch 68/80\n",
            "324/324 [==============================] - 1s 2ms/step - loss: 0.1421 - accuracy: 0.9488 - val_loss: 0.1867 - val_accuracy: 0.9457\n",
            "Epoch 69/80\n",
            "324/324 [==============================] - 1s 2ms/step - loss: 0.1415 - accuracy: 0.9497 - val_loss: 0.2010 - val_accuracy: 0.9431\n",
            "Epoch 70/80\n",
            "324/324 [==============================] - 1s 2ms/step - loss: 0.1406 - accuracy: 0.9501 - val_loss: 0.1979 - val_accuracy: 0.9444\n",
            "Epoch 71/80\n",
            "324/324 [==============================] - 1s 2ms/step - loss: 0.1388 - accuracy: 0.9494 - val_loss: 0.2063 - val_accuracy: 0.9440\n",
            "Epoch 72/80\n",
            "324/324 [==============================] - 1s 2ms/step - loss: 0.1391 - accuracy: 0.9508 - val_loss: 0.2061 - val_accuracy: 0.9424\n",
            "Epoch 73/80\n",
            "324/324 [==============================] - 1s 3ms/step - loss: 0.1407 - accuracy: 0.9500 - val_loss: 0.2053 - val_accuracy: 0.9453\n",
            "Epoch 74/80\n",
            "324/324 [==============================] - 1s 2ms/step - loss: 0.1409 - accuracy: 0.9502 - val_loss: 0.2008 - val_accuracy: 0.9450\n",
            "Epoch 75/80\n",
            "324/324 [==============================] - 1s 2ms/step - loss: 0.1429 - accuracy: 0.9487 - val_loss: 0.2173 - val_accuracy: 0.9463\n",
            "Epoch 76/80\n",
            "324/324 [==============================] - 1s 2ms/step - loss: 0.1413 - accuracy: 0.9508 - val_loss: 0.2045 - val_accuracy: 0.9457\n",
            "Epoch 77/80\n",
            "324/324 [==============================] - 1s 3ms/step - loss: 0.1384 - accuracy: 0.9506 - val_loss: 0.2116 - val_accuracy: 0.9465\n",
            "Epoch 78/80\n",
            "324/324 [==============================] - 1s 2ms/step - loss: 0.1397 - accuracy: 0.9499 - val_loss: 0.2052 - val_accuracy: 0.9447\n",
            "Epoch 79/80\n",
            "324/324 [==============================] - 1s 2ms/step - loss: 0.1389 - accuracy: 0.9500 - val_loss: 0.1984 - val_accuracy: 0.9452\n",
            "Epoch 80/80\n",
            "324/324 [==============================] - 1s 2ms/step - loss: 0.1398 - accuracy: 0.9504 - val_loss: 0.1993 - val_accuracy: 0.9456\n"
          ]
        }
      ],
      "source": [
        "# Neural Networks\n",
        "from keras.models import Sequential\n",
        "from keras.layers import Dense\n",
        "\n",
        "model = Sequential() \n",
        "model.add(Dense(128, activation='relu', input_dim=12))\n",
        "model.add(Dropout(0.2))\n",
        "model.add(Dense(20, activation='relu'))\n",
        "model.add(Dropout(0.2))\n",
        "model.add(Dense(12, activation='relu'))\n",
        "model.add(Dense(1, activation='sigmoid')) \n",
        "model.compile(loss='binary_crossentropy', optimizer='adam', metrics=['accuracy']) \n",
        "model.summary()\n",
        "hist = model.fit(X_train, y_train, validation_data=(X_test, y_test), epochs=80, batch_size=64)\n",
        "\n",
        "\n"
      ]
    },
    {
      "cell_type": "code",
      "execution_count": null,
      "metadata": {
        "colab": {
          "base_uri": "https://localhost:8080/",
          "height": 318
        },
        "id": "nn6ise2xnpjJ",
        "outputId": "0c333855-5706-42e4-96cb-b8f1b8049791"
      },
      "outputs": [
        {
          "data": {
            "text/plain": [
              "[]"
            ]
          },
          "execution_count": 13,
          "metadata": {},
          "output_type": "execute_result"
        },
        {
          "data": {
            "image/png": "[encoded data removed]",
            "text/plain": [
              "<Figure size 432x288 with 1 Axes>"
            ]
          },
          "metadata": {},
          "output_type": "display_data"
        }
      ],
      "source": [
        "import seaborn as sns\n",
        "import matplotlib.pyplot as plt\n",
        "%matplotlib inline\n",
        "\n",
        "sns.set()\n",
        "acc = hist.history['accuracy']\n",
        "val = hist.history['val_accuracy']\n",
        "epochs = range(1, len(acc) + 1)\n",
        "\n",
        "plt.plot(epochs, acc, '-', label='Training accuracy')\n",
        "plt.plot(epochs, val, ':', label='Validation accuracy')\n",
        "plt.title('Training and Validation Accuracy')\n",
        "plt.xlabel('Epoch')\n",
        "plt.ylabel('Accuracy')\n",
        "plt.legend(loc='lower right')\n",
        "plt.plot()\n",
        "\n",
        "sns.set()\n",
        "loss = hist.history['loss']\n",
        "val = hist.history['val_loss']\n",
        "epochs = range(1, len(loss) + 1)\n",
        "\n",
        "plt.plot(epochs, loss, '-', label='Training loss')\n",
        "plt.plot(epochs, val, ':', label='Validation loss')\n",
        "plt.title('Training and Validation loss')\n",
        "plt.xlabel('Epoch')\n",
        "plt.ylabel('loss#')\n",
        "plt.legend(loc='upper right')\n",
        "plt.plot()\n",
        "\n"
      ]
    },
    {
      "cell_type": "code",
      "execution_count": null,
      "metadata": {
        "colab": {
          "base_uri": "https://localhost:8080/"
        },
        "id": "XVxIiTmHnzYU",
        "outputId": "6f95459d-c4c1-4ab3-e5b8-3da98ef6ffb6"
      },
      "outputs": [
        {
          "name": "stdout",
          "output_type": "stream",
          "text": [
            "216/216 [==============================] - 0s 1ms/step\n",
            "True Positive(TP)  =  4192\n",
            "False Positive(FP) =  113\n",
            "True Negative(TN)  =  2340\n",
            "False Negative(FN) =  248\n",
            "Accuracy of the binary classification = 0.948\n"
          ]
        }
      ],
      "source": [
        "from sklearn.metrics import confusion_matrix\n",
        "predictions = model.predict(X_test) > 0.5\n",
        "cm = confusion_matrix(y_test, predictions)\n",
        "\n",
        "TN, FP, FN, TP = confusion_matrix(y_test, predictions).ravel()\n",
        "\n",
        "print('True Positive(TP)  = ', TP)\n",
        "print('False Positive(FP) = ', FP)\n",
        "print('True Negative(TN)  = ', TN)\n",
        "print('False Negative(FN) = ', FN)\n",
        "\n",
        "accuracy_keras =  (TP+TN) /(TP+FP+TN+FN)\n",
        "\n",
        "print('Accuracy of the binary classification = {:0.3f}'.format(accuracy_keras))"
      ]
    },
    {
      "cell_type": "code",
      "execution_count": null,
      "metadata": {
        "colab": {
          "base_uri": "https://localhost:8080/"
        },
        "id": "OTxSQrfgcxcF",
        "outputId": "4f8deba1-8f40-4d40-b96f-511d5fe31d85"
      },
      "outputs": [
        {
          "name": "stdout",
          "output_type": "stream",
          "text": [
            "Model: \"sequential_1\"\n",
            "_________________________________________________________________\n",
            " Layer (type)                Output Shape              Param #   \n",
            "=================================================================\n",
            " dense_4 (Dense)             (None, 16)                208       \n",
            "                                                                 \n",
            " dropout_2 (Dropout)         (None, 16)                0         \n",
            "                                                                 \n",
            " dense_5 (Dense)             (None, 20)                340       \n",
            "                                                                 \n",
            " dropout_3 (Dropout)         (None, 20)                0         \n",
            "                                                                 \n",
            " dense_6 (Dense)             (None, 15)                315       \n",
            "                                                                 \n",
            " dense_7 (Dense)             (None, 1)                 16        \n",
            "                                                                 \n",
            "=================================================================\n",
            "Total params: 879\n",
            "Trainable params: 879\n",
            "Non-trainable params: 0\n",
            "_________________________________________________________________\n",
            "Epoch 1/150\n",
            "324/324 [==============================] - 2s 3ms/step - loss: 0.4148 - accuracy: 0.8229 - val_loss: 0.2831 - val_accuracy: 0.8896\n",
            "Epoch 2/150\n",
            "324/324 [==============================] - 1s 3ms/step - loss: 0.2895 - accuracy: 0.8855 - val_loss: 0.2469 - val_accuracy: 0.9076\n",
            "Epoch 3/150\n",
            "324/324 [==============================] - 1s 3ms/step - loss: 0.2557 - accuracy: 0.9013 - val_loss: 0.2320 - val_accuracy: 0.9140\n",
            "Epoch 4/150\n",
            "324/324 [==============================] - 1s 3ms/step - loss: 0.2384 - accuracy: 0.9092 - val_loss: 0.2219 - val_accuracy: 0.9183\n",
            "Epoch 5/150\n",
            "324/324 [==============================] - 1s 3ms/step - loss: 0.2260 - accuracy: 0.9137 - val_loss: 0.2181 - val_accuracy: 0.9218\n",
            "Epoch 6/150\n",
            "324/324 [==============================] - 1s 3ms/step - loss: 0.2182 - accuracy: 0.9193 - val_loss: 0.2136 - val_accuracy: 0.9269\n",
            "Epoch 7/150\n",
            "324/324 [==============================] - 1s 3ms/step - loss: 0.2146 - accuracy: 0.9195 - val_loss: 0.2125 - val_accuracy: 0.9282\n",
            "Epoch 8/150\n",
            "324/324 [==============================] - 1s 3ms/step - loss: 0.2081 - accuracy: 0.9246 - val_loss: 0.2132 - val_accuracy: 0.9282\n",
            "Epoch 9/150\n",
            "324/324 [==============================] - 1s 3ms/step - loss: 0.2032 - accuracy: 0.9258 - val_loss: 0.2048 - val_accuracy: 0.9301\n",
            "Epoch 10/150\n",
            "324/324 [==============================] - 1s 3ms/step - loss: 0.2012 - accuracy: 0.9258 - val_loss: 0.2034 - val_accuracy: 0.9315\n",
            "Epoch 11/150\n",
            "324/324 [==============================] - 1s 3ms/step - loss: 0.1953 - accuracy: 0.9282 - val_loss: 0.2026 - val_accuracy: 0.9338\n",
            "Epoch 12/150\n",
            "324/324 [==============================] - 1s 3ms/step - loss: 0.1934 - accuracy: 0.9305 - val_loss: 0.2049 - val_accuracy: 0.9341\n",
            "Epoch 13/150\n",
            "324/324 [==============================] - 1s 3ms/step - loss: 0.1922 - accuracy: 0.9306 - val_loss: 0.1990 - val_accuracy: 0.9365\n",
            "Epoch 14/150\n",
            "324/324 [==============================] - 1s 3ms/step - loss: 0.1898 - accuracy: 0.9320 - val_loss: 0.2027 - val_accuracy: 0.9347\n",
            "Epoch 15/150\n",
            "324/324 [==============================] - 1s 3ms/step - loss: 0.1885 - accuracy: 0.9323 - val_loss: 0.1995 - val_accuracy: 0.9379\n",
            "Epoch 16/150\n",
            "324/324 [==============================] - 1s 3ms/step - loss: 0.1861 - accuracy: 0.9336 - val_loss: 0.1962 - val_accuracy: 0.9376\n",
            "Epoch 17/150\n",
            "324/324 [==============================] - 1s 3ms/step - loss: 0.1848 - accuracy: 0.9333 - val_loss: 0.1959 - val_accuracy: 0.9375\n",
            "Epoch 18/150\n",
            "324/324 [==============================] - 1s 3ms/step - loss: 0.1805 - accuracy: 0.9359 - val_loss: 0.1936 - val_accuracy: 0.9398\n",
            "Epoch 19/150\n",
            "324/324 [==============================] - 1s 2ms/step - loss: 0.1821 - accuracy: 0.9352 - val_loss: 0.1987 - val_accuracy: 0.9369\n",
            "Epoch 20/150\n",
            "324/324 [==============================] - 1s 3ms/step - loss: 0.1791 - accuracy: 0.9369 - val_loss: 0.1951 - val_accuracy: 0.9394\n",
            "Epoch 21/150\n",
            "324/324 [==============================] - 1s 3ms/step - loss: 0.1802 - accuracy: 0.9355 - val_loss: 0.1950 - val_accuracy: 0.9415\n",
            "Epoch 22/150\n",
            "324/324 [==============================] - 1s 3ms/step - loss: 0.1769 - accuracy: 0.9392 - val_loss: 0.1913 - val_accuracy: 0.9412\n",
            "Epoch 23/150\n",
            "324/324 [==============================] - 1s 3ms/step - loss: 0.1767 - accuracy: 0.9386 - val_loss: 0.1919 - val_accuracy: 0.9399\n",
            "Epoch 24/150\n",
            "324/324 [==============================] - 1s 3ms/step - loss: 0.1756 - accuracy: 0.9388 - val_loss: 0.1936 - val_accuracy: 0.9404\n",
            "Epoch 25/150\n",
            "324/324 [==============================] - 1s 3ms/step - loss: 0.1739 - accuracy: 0.9385 - val_loss: 0.1918 - val_accuracy: 0.9420\n",
            "Epoch 26/150\n",
            "324/324 [==============================] - 1s 3ms/step - loss: 0.1739 - accuracy: 0.9390 - val_loss: 0.1902 - val_accuracy: 0.9424\n",
            "Epoch 27/150\n",
            "324/324 [==============================] - 1s 3ms/step - loss: 0.1714 - accuracy: 0.9405 - val_loss: 0.1901 - val_accuracy: 0.9418\n",
            "Epoch 28/150\n",
            "324/324 [==============================] - 1s 3ms/step - loss: 0.1722 - accuracy: 0.9397 - val_loss: 0.1885 - val_accuracy: 0.9426\n",
            "Epoch 29/150\n",
            "324/324 [==============================] - 1s 3ms/step - loss: 0.1721 - accuracy: 0.9402 - val_loss: 0.1871 - val_accuracy: 0.9431\n",
            "Epoch 30/150\n",
            "324/324 [==============================] - 1s 3ms/step - loss: 0.1724 - accuracy: 0.9402 - val_loss: 0.1891 - val_accuracy: 0.9420\n",
            "Epoch 31/150\n",
            "324/324 [==============================] - 1s 3ms/step - loss: 0.1705 - accuracy: 0.9412 - val_loss: 0.1886 - val_accuracy: 0.9415\n",
            "Epoch 32/150\n",
            "324/324 [==============================] - 1s 3ms/step - loss: 0.1716 - accuracy: 0.9398 - val_loss: 0.1888 - val_accuracy: 0.9447\n",
            "Epoch 33/150\n",
            "324/324 [==============================] - 1s 3ms/step - loss: 0.1696 - accuracy: 0.9405 - val_loss: 0.1852 - val_accuracy: 0.9434\n",
            "Epoch 34/150\n",
            "324/324 [==============================] - 1s 3ms/step - loss: 0.1679 - accuracy: 0.9415 - val_loss: 0.1806 - val_accuracy: 0.9433\n",
            "Epoch 35/150\n",
            "324/324 [==============================] - 1s 3ms/step - loss: 0.1691 - accuracy: 0.9423 - val_loss: 0.1833 - val_accuracy: 0.9434\n",
            "Epoch 36/150\n",
            "324/324 [==============================] - 1s 3ms/step - loss: 0.1692 - accuracy: 0.9410 - val_loss: 0.1902 - val_accuracy: 0.9423\n",
            "Epoch 37/150\n",
            "324/324 [==============================] - 1s 4ms/step - loss: 0.1669 - accuracy: 0.9425 - val_loss: 0.1856 - val_accuracy: 0.9440\n",
            "Epoch 38/150\n",
            "324/324 [==============================] - 1s 5ms/step - loss: 0.1683 - accuracy: 0.9396 - val_loss: 0.1855 - val_accuracy: 0.9434\n",
            "Epoch 39/150\n",
            "324/324 [==============================] - 1s 3ms/step - loss: 0.1673 - accuracy: 0.9428 - val_loss: 0.1863 - val_accuracy: 0.9434\n",
            "Epoch 40/150\n",
            "324/324 [==============================] - 1s 3ms/step - loss: 0.1690 - accuracy: 0.9412 - val_loss: 0.1825 - val_accuracy: 0.9437\n",
            "Epoch 41/150\n",
            "324/324 [==============================] - 1s 3ms/step - loss: 0.1670 - accuracy: 0.9412 - val_loss: 0.1831 - val_accuracy: 0.9439\n",
            "Epoch 42/150\n",
            "324/324 [==============================] - 1s 3ms/step - loss: 0.1666 - accuracy: 0.9421 - val_loss: 0.1849 - val_accuracy: 0.9433\n",
            "Epoch 43/150\n",
            "324/324 [==============================] - 1s 3ms/step - loss: 0.1683 - accuracy: 0.9412 - val_loss: 0.1842 - val_accuracy: 0.9430\n",
            "Epoch 44/150\n",
            "324/324 [==============================] - 1s 3ms/step - loss: 0.1658 - accuracy: 0.9423 - val_loss: 0.1806 - val_accuracy: 0.9437\n",
            "Epoch 45/150\n",
            "324/324 [==============================] - 1s 3ms/step - loss: 0.1662 - accuracy: 0.9439 - val_loss: 0.1881 - val_accuracy: 0.9421\n",
            "Epoch 46/150\n",
            "324/324 [==============================] - 1s 3ms/step - loss: 0.1668 - accuracy: 0.9416 - val_loss: 0.1814 - val_accuracy: 0.9440\n",
            "Epoch 47/150\n",
            "324/324 [==============================] - 1s 3ms/step - loss: 0.1667 - accuracy: 0.9420 - val_loss: 0.1805 - val_accuracy: 0.9447\n",
            "Epoch 48/150\n",
            "324/324 [==============================] - 1s 3ms/step - loss: 0.1659 - accuracy: 0.9427 - val_loss: 0.1837 - val_accuracy: 0.9428\n",
            "Epoch 49/150\n",
            "324/324 [==============================] - 1s 3ms/step - loss: 0.1657 - accuracy: 0.9431 - val_loss: 0.1751 - val_accuracy: 0.9450\n",
            "Epoch 50/150\n",
            "324/324 [==============================] - 1s 3ms/step - loss: 0.1645 - accuracy: 0.9429 - val_loss: 0.1808 - val_accuracy: 0.9440\n",
            "Epoch 51/150\n",
            "324/324 [==============================] - 1s 3ms/step - loss: 0.1639 - accuracy: 0.9438 - val_loss: 0.1816 - val_accuracy: 0.9437\n",
            "Epoch 52/150\n",
            "324/324 [==============================] - 1s 3ms/step - loss: 0.1647 - accuracy: 0.9427 - val_loss: 0.1780 - val_accuracy: 0.9453\n",
            "Epoch 53/150\n",
            "324/324 [==============================] - 1s 3ms/step - loss: 0.1658 - accuracy: 0.9425 - val_loss: 0.1825 - val_accuracy: 0.9452\n",
            "Epoch 54/150\n",
            "324/324 [==============================] - 1s 3ms/step - loss: 0.1652 - accuracy: 0.9434 - val_loss: 0.1798 - val_accuracy: 0.9455\n",
            "Epoch 55/150\n",
            "324/324 [==============================] - 1s 3ms/step - loss: 0.1656 - accuracy: 0.9426 - val_loss: 0.1714 - val_accuracy: 0.9463\n",
            "Epoch 56/150\n",
            "324/324 [==============================] - 1s 3ms/step - loss: 0.1661 - accuracy: 0.9434 - val_loss: 0.1810 - val_accuracy: 0.9439\n",
            "Epoch 57/150\n",
            "324/324 [==============================] - 1s 3ms/step - loss: 0.1651 - accuracy: 0.9429 - val_loss: 0.1774 - val_accuracy: 0.9447\n",
            "Epoch 58/150\n",
            "324/324 [==============================] - 1s 3ms/step - loss: 0.1647 - accuracy: 0.9444 - val_loss: 0.1744 - val_accuracy: 0.9443\n",
            "Epoch 59/150\n",
            "324/324 [==============================] - 1s 3ms/step - loss: 0.1659 - accuracy: 0.9427 - val_loss: 0.1766 - val_accuracy: 0.9450\n",
            "Epoch 60/150\n",
            "324/324 [==============================] - 1s 3ms/step - loss: 0.1643 - accuracy: 0.9427 - val_loss: 0.1743 - val_accuracy: 0.9455\n",
            "Epoch 61/150\n",
            "324/324 [==============================] - 1s 3ms/step - loss: 0.1634 - accuracy: 0.9437 - val_loss: 0.1735 - val_accuracy: 0.9456\n",
            "Epoch 62/150\n",
            "324/324 [==============================] - 1s 3ms/step - loss: 0.1631 - accuracy: 0.9443 - val_loss: 0.1741 - val_accuracy: 0.9446\n",
            "Epoch 63/150\n",
            "324/324 [==============================] - 1s 3ms/step - loss: 0.1631 - accuracy: 0.9437 - val_loss: 0.1793 - val_accuracy: 0.9433\n",
            "Epoch 64/150\n",
            "324/324 [==============================] - 1s 3ms/step - loss: 0.1659 - accuracy: 0.9424 - val_loss: 0.1720 - val_accuracy: 0.9452\n",
            "Epoch 65/150\n",
            "324/324 [==============================] - 1s 3ms/step - loss: 0.1622 - accuracy: 0.9442 - val_loss: 0.1739 - val_accuracy: 0.9449\n",
            "Epoch 66/150\n",
            "324/324 [==============================] - 1s 3ms/step - loss: 0.1644 - accuracy: 0.9440 - val_loss: 0.1748 - val_accuracy: 0.9452\n",
            "Epoch 67/150\n",
            "324/324 [==============================] - 1s 3ms/step - loss: 0.1636 - accuracy: 0.9433 - val_loss: 0.1790 - val_accuracy: 0.9441\n",
            "Epoch 68/150\n",
            "324/324 [==============================] - 1s 3ms/step - loss: 0.1643 - accuracy: 0.9434 - val_loss: 0.1719 - val_accuracy: 0.9436\n",
            "Epoch 69/150\n",
            "324/324 [==============================] - 1s 3ms/step - loss: 0.1631 - accuracy: 0.9434 - val_loss: 0.1697 - val_accuracy: 0.9466\n",
            "Epoch 70/150\n",
            "324/324 [==============================] - 1s 3ms/step - loss: 0.1640 - accuracy: 0.9423 - val_loss: 0.1709 - val_accuracy: 0.9472\n",
            "Epoch 71/150\n",
            "324/324 [==============================] - 1s 3ms/step - loss: 0.1630 - accuracy: 0.9447 - val_loss: 0.1730 - val_accuracy: 0.9460\n",
            "Epoch 72/150\n",
            "324/324 [==============================] - 1s 3ms/step - loss: 0.1642 - accuracy: 0.9433 - val_loss: 0.1745 - val_accuracy: 0.9440\n",
            "Epoch 73/150\n",
            "324/324 [==============================] - 1s 3ms/step - loss: 0.1626 - accuracy: 0.9431 - val_loss: 0.1722 - val_accuracy: 0.9463\n",
            "Epoch 74/150\n",
            "324/324 [==============================] - 1s 3ms/step - loss: 0.1638 - accuracy: 0.9444 - val_loss: 0.1739 - val_accuracy: 0.9466\n",
            "Epoch 75/150\n",
            "324/324 [==============================] - 1s 3ms/step - loss: 0.1634 - accuracy: 0.9438 - val_loss: 0.1699 - val_accuracy: 0.9465\n",
            "Epoch 76/150\n",
            "324/324 [==============================] - 1s 3ms/step - loss: 0.1629 - accuracy: 0.9440 - val_loss: 0.1680 - val_accuracy: 0.9457\n",
            "Epoch 77/150\n",
            "324/324 [==============================] - 1s 3ms/step - loss: 0.1632 - accuracy: 0.9437 - val_loss: 0.1737 - val_accuracy: 0.9437\n",
            "Epoch 78/150\n",
            "324/324 [==============================] - 1s 3ms/step - loss: 0.1636 - accuracy: 0.9428 - val_loss: 0.1684 - val_accuracy: 0.9462\n",
            "Epoch 79/150\n",
            "324/324 [==============================] - 1s 3ms/step - loss: 0.1632 - accuracy: 0.9431 - val_loss: 0.1664 - val_accuracy: 0.9466\n",
            "Epoch 80/150\n",
            "324/324 [==============================] - 1s 3ms/step - loss: 0.1629 - accuracy: 0.9444 - val_loss: 0.1709 - val_accuracy: 0.9453\n",
            "Epoch 81/150\n",
            "324/324 [==============================] - 1s 3ms/step - loss: 0.1625 - accuracy: 0.9431 - val_loss: 0.1676 - val_accuracy: 0.9459\n",
            "Epoch 82/150\n",
            "324/324 [==============================] - 1s 3ms/step - loss: 0.1607 - accuracy: 0.9446 - val_loss: 0.1674 - val_accuracy: 0.9459\n",
            "Epoch 83/150\n",
            "324/324 [==============================] - 1s 3ms/step - loss: 0.1621 - accuracy: 0.9451 - val_loss: 0.1670 - val_accuracy: 0.9465\n",
            "Epoch 84/150\n",
            "324/324 [==============================] - 1s 3ms/step - loss: 0.1628 - accuracy: 0.9427 - val_loss: 0.1715 - val_accuracy: 0.9455\n",
            "Epoch 85/150\n",
            "324/324 [==============================] - 1s 3ms/step - loss: 0.1626 - accuracy: 0.9445 - val_loss: 0.1667 - val_accuracy: 0.9459\n",
            "Epoch 86/150\n",
            "324/324 [==============================] - 1s 3ms/step - loss: 0.1615 - accuracy: 0.9438 - val_loss: 0.1650 - val_accuracy: 0.9475\n",
            "Epoch 87/150\n",
            "324/324 [==============================] - 1s 3ms/step - loss: 0.1618 - accuracy: 0.9442 - val_loss: 0.1633 - val_accuracy: 0.9460\n",
            "Epoch 88/150\n",
            "324/324 [==============================] - 1s 3ms/step - loss: 0.1640 - accuracy: 0.9444 - val_loss: 0.1673 - val_accuracy: 0.9473\n",
            "Epoch 89/150\n",
            "324/324 [==============================] - 1s 3ms/step - loss: 0.1631 - accuracy: 0.9438 - val_loss: 0.1684 - val_accuracy: 0.9456\n",
            "Epoch 90/150\n",
            "324/324 [==============================] - 1s 3ms/step - loss: 0.1621 - accuracy: 0.9436 - val_loss: 0.1631 - val_accuracy: 0.9460\n",
            "Epoch 91/150\n",
            "324/324 [==============================] - 1s 3ms/step - loss: 0.1624 - accuracy: 0.9437 - val_loss: 0.1676 - val_accuracy: 0.9455\n",
            "Epoch 92/150\n",
            "324/324 [==============================] - 1s 3ms/step - loss: 0.1615 - accuracy: 0.9441 - val_loss: 0.1699 - val_accuracy: 0.9462\n",
            "Epoch 93/150\n",
            "324/324 [==============================] - 1s 3ms/step - loss: 0.1621 - accuracy: 0.9450 - val_loss: 0.1692 - val_accuracy: 0.9472\n",
            "Epoch 94/150\n",
            "324/324 [==============================] - 1s 3ms/step - loss: 0.1609 - accuracy: 0.9437 - val_loss: 0.1640 - val_accuracy: 0.9470\n",
            "Epoch 95/150\n",
            "324/324 [==============================] - 1s 3ms/step - loss: 0.1611 - accuracy: 0.9432 - val_loss: 0.1673 - val_accuracy: 0.9473\n",
            "Epoch 96/150\n",
            "324/324 [==============================] - 1s 3ms/step - loss: 0.1619 - accuracy: 0.9445 - val_loss: 0.1645 - val_accuracy: 0.9472\n",
            "Epoch 97/150\n",
            "324/324 [==============================] - 1s 3ms/step - loss: 0.1598 - accuracy: 0.9448 - val_loss: 0.1661 - val_accuracy: 0.9455\n",
            "Epoch 98/150\n",
            "324/324 [==============================] - 1s 3ms/step - loss: 0.1598 - accuracy: 0.9450 - val_loss: 0.1667 - val_accuracy: 0.9460\n",
            "Epoch 99/150\n",
            "324/324 [==============================] - 1s 3ms/step - loss: 0.1615 - accuracy: 0.9443 - val_loss: 0.1665 - val_accuracy: 0.9457\n",
            "Epoch 100/150\n",
            "324/324 [==============================] - 1s 3ms/step - loss: 0.1625 - accuracy: 0.9433 - val_loss: 0.1625 - val_accuracy: 0.9478\n",
            "Epoch 101/150\n",
            "324/324 [==============================] - 1s 3ms/step - loss: 0.1620 - accuracy: 0.9436 - val_loss: 0.1655 - val_accuracy: 0.9466\n",
            "Epoch 102/150\n",
            "324/324 [==============================] - 1s 3ms/step - loss: 0.1607 - accuracy: 0.9446 - val_loss: 0.1607 - val_accuracy: 0.9473\n",
            "Epoch 103/150\n",
            "324/324 [==============================] - 1s 3ms/step - loss: 0.1611 - accuracy: 0.9440 - val_loss: 0.1612 - val_accuracy: 0.9459\n",
            "Epoch 104/150\n",
            "324/324 [==============================] - 1s 3ms/step - loss: 0.1603 - accuracy: 0.9449 - val_loss: 0.1635 - val_accuracy: 0.9456\n",
            "Epoch 105/150\n",
            "324/324 [==============================] - 1s 3ms/step - loss: 0.1608 - accuracy: 0.9443 - val_loss: 0.1621 - val_accuracy: 0.9475\n",
            "Epoch 106/150\n",
            "324/324 [==============================] - 1s 3ms/step - loss: 0.1606 - accuracy: 0.9442 - val_loss: 0.1637 - val_accuracy: 0.9481\n",
            "Epoch 107/150\n",
            "324/324 [==============================] - 1s 3ms/step - loss: 0.1597 - accuracy: 0.9440 - val_loss: 0.1625 - val_accuracy: 0.9473\n",
            "Epoch 108/150\n",
            "324/324 [==============================] - 1s 3ms/step - loss: 0.1600 - accuracy: 0.9453 - val_loss: 0.1639 - val_accuracy: 0.9460\n",
            "Epoch 109/150\n",
            "324/324 [==============================] - 1s 3ms/step - loss: 0.1597 - accuracy: 0.9463 - val_loss: 0.1638 - val_accuracy: 0.9466\n",
            "Epoch 110/150\n",
            "324/324 [==============================] - 1s 3ms/step - loss: 0.1621 - accuracy: 0.9437 - val_loss: 0.1634 - val_accuracy: 0.9479\n",
            "Epoch 111/150\n",
            "324/324 [==============================] - 1s 3ms/step - loss: 0.1612 - accuracy: 0.9431 - val_loss: 0.1631 - val_accuracy: 0.9475\n",
            "Epoch 112/150\n",
            "324/324 [==============================] - 1s 3ms/step - loss: 0.1649 - accuracy: 0.9442 - val_loss: 0.1666 - val_accuracy: 0.9489\n",
            "Epoch 113/150\n",
            "324/324 [==============================] - 1s 3ms/step - loss: 0.1597 - accuracy: 0.9449 - val_loss: 0.1594 - val_accuracy: 0.9465\n",
            "Epoch 114/150\n",
            "324/324 [==============================] - 1s 3ms/step - loss: 0.1619 - accuracy: 0.9436 - val_loss: 0.1626 - val_accuracy: 0.9472\n",
            "Epoch 115/150\n",
            "324/324 [==============================] - 1s 3ms/step - loss: 0.1588 - accuracy: 0.9459 - val_loss: 0.1604 - val_accuracy: 0.9470\n",
            "Epoch 116/150\n",
            "324/324 [==============================] - 1s 3ms/step - loss: 0.1618 - accuracy: 0.9432 - val_loss: 0.1669 - val_accuracy: 0.9466\n",
            "Epoch 117/150\n",
            "324/324 [==============================] - 1s 3ms/step - loss: 0.1605 - accuracy: 0.9452 - val_loss: 0.1630 - val_accuracy: 0.9468\n",
            "Epoch 118/150\n",
            "324/324 [==============================] - 1s 3ms/step - loss: 0.1606 - accuracy: 0.9442 - val_loss: 0.1616 - val_accuracy: 0.9481\n",
            "Epoch 119/150\n",
            "324/324 [==============================] - 1s 3ms/step - loss: 0.1617 - accuracy: 0.9444 - val_loss: 0.1663 - val_accuracy: 0.9457\n",
            "Epoch 120/150\n",
            "324/324 [==============================] - 1s 3ms/step - loss: 0.1595 - accuracy: 0.9453 - val_loss: 0.1606 - val_accuracy: 0.9468\n",
            "Epoch 121/150\n",
            "324/324 [==============================] - 1s 3ms/step - loss: 0.1603 - accuracy: 0.9454 - val_loss: 0.1600 - val_accuracy: 0.9486\n",
            "Epoch 122/150\n",
            "324/324 [==============================] - 1s 3ms/step - loss: 0.1589 - accuracy: 0.9446 - val_loss: 0.1635 - val_accuracy: 0.9472\n",
            "Epoch 123/150\n",
            "324/324 [==============================] - 1s 3ms/step - loss: 0.1600 - accuracy: 0.9441 - val_loss: 0.1609 - val_accuracy: 0.9486\n",
            "Epoch 124/150\n",
            "324/324 [==============================] - 1s 3ms/step - loss: 0.1606 - accuracy: 0.9449 - val_loss: 0.1594 - val_accuracy: 0.9466\n",
            "Epoch 125/150\n",
            "324/324 [==============================] - 1s 3ms/step - loss: 0.1597 - accuracy: 0.9450 - val_loss: 0.1607 - val_accuracy: 0.9478\n",
            "Epoch 126/150\n",
            "324/324 [==============================] - 1s 3ms/step - loss: 0.1599 - accuracy: 0.9449 - val_loss: 0.1637 - val_accuracy: 0.9469\n",
            "Epoch 127/150\n",
            "324/324 [==============================] - 1s 3ms/step - loss: 0.1611 - accuracy: 0.9446 - val_loss: 0.1650 - val_accuracy: 0.9441\n",
            "Epoch 128/150\n",
            "324/324 [==============================] - 1s 3ms/step - loss: 0.1594 - accuracy: 0.9448 - val_loss: 0.1612 - val_accuracy: 0.9470\n",
            "Epoch 129/150\n",
            "324/324 [==============================] - 1s 3ms/step - loss: 0.1581 - accuracy: 0.9439 - val_loss: 0.1591 - val_accuracy: 0.9478\n",
            "Epoch 130/150\n",
            "324/324 [==============================] - 1s 3ms/step - loss: 0.1598 - accuracy: 0.9450 - val_loss: 0.1606 - val_accuracy: 0.9463\n",
            "Epoch 131/150\n",
            "324/324 [==============================] - 1s 3ms/step - loss: 0.1599 - accuracy: 0.9453 - val_loss: 0.1625 - val_accuracy: 0.9455\n",
            "Epoch 132/150\n",
            "324/324 [==============================] - 1s 3ms/step - loss: 0.1611 - accuracy: 0.9445 - val_loss: 0.1625 - val_accuracy: 0.9469\n",
            "Epoch 133/150\n",
            "324/324 [==============================] - 1s 3ms/step - loss: 0.1602 - accuracy: 0.9456 - val_loss: 0.1583 - val_accuracy: 0.9475\n",
            "Epoch 134/150\n",
            "324/324 [==============================] - 1s 3ms/step - loss: 0.1589 - accuracy: 0.9448 - val_loss: 0.1567 - val_accuracy: 0.9484\n",
            "Epoch 135/150\n",
            "324/324 [==============================] - 1s 3ms/step - loss: 0.1590 - accuracy: 0.9460 - val_loss: 0.1530 - val_accuracy: 0.9488\n",
            "Epoch 136/150\n",
            "324/324 [==============================] - 1s 3ms/step - loss: 0.1579 - accuracy: 0.9464 - val_loss: 0.1621 - val_accuracy: 0.9470\n",
            "Epoch 137/150\n",
            "324/324 [==============================] - 1s 3ms/step - loss: 0.1603 - accuracy: 0.9442 - val_loss: 0.1581 - val_accuracy: 0.9473\n",
            "Epoch 138/150\n",
            "324/324 [==============================] - 1s 3ms/step - loss: 0.1598 - accuracy: 0.9451 - val_loss: 0.1591 - val_accuracy: 0.9479\n",
            "Epoch 139/150\n",
            "324/324 [==============================] - 1s 3ms/step - loss: 0.1581 - accuracy: 0.9454 - val_loss: 0.1647 - val_accuracy: 0.9460\n",
            "Epoch 140/150\n",
            "324/324 [==============================] - 1s 3ms/step - loss: 0.1706 - accuracy: 0.9459 - val_loss: 0.1614 - val_accuracy: 0.9468\n",
            "Epoch 141/150\n",
            "324/324 [==============================] - 1s 3ms/step - loss: 0.1595 - accuracy: 0.9456 - val_loss: 0.1597 - val_accuracy: 0.9457\n",
            "Epoch 142/150\n",
            "324/324 [==============================] - 1s 3ms/step - loss: 0.1598 - accuracy: 0.9456 - val_loss: 0.1602 - val_accuracy: 0.9465\n",
            "Epoch 143/150\n",
            "324/324 [==============================] - 1s 3ms/step - loss: 0.1577 - accuracy: 0.9450 - val_loss: 0.1606 - val_accuracy: 0.9465\n",
            "Epoch 144/150\n",
            "324/324 [==============================] - 1s 3ms/step - loss: 0.1592 - accuracy: 0.9452 - val_loss: 0.1612 - val_accuracy: 0.9479\n",
            "Epoch 145/150\n",
            "324/324 [==============================] - 1s 3ms/step - loss: 0.1560 - accuracy: 0.9453 - val_loss: 0.1608 - val_accuracy: 0.9473\n",
            "Epoch 146/150\n",
            "324/324 [==============================] - 1s 3ms/step - loss: 0.1581 - accuracy: 0.9467 - val_loss: 0.1621 - val_accuracy: 0.9469\n",
            "Epoch 147/150\n",
            "324/324 [==============================] - 1s 3ms/step - loss: 0.1547 - accuracy: 0.9467 - val_loss: 0.1659 - val_accuracy: 0.9469\n",
            "Epoch 148/150\n",
            "324/324 [==============================] - 1s 3ms/step - loss: 0.1580 - accuracy: 0.9461 - val_loss: 0.1684 - val_accuracy: 0.9453\n",
            "Epoch 149/150\n",
            "324/324 [==============================] - 1s 3ms/step - loss: 0.1576 - accuracy: 0.9454 - val_loss: 0.1583 - val_accuracy: 0.9465\n",
            "Epoch 150/150\n",
            "324/324 [==============================] - 1s 3ms/step - loss: 0.1591 - accuracy: 0.9447 - val_loss: 0.1577 - val_accuracy: 0.9468\n"
          ]
        }
      ],
      "source": [
        "from keras.models import Sequential\n",
        "from keras.layers import Dense\n",
        "\n",
        "model = Sequential() \n",
        "model.add(Dense(16, input_dim=12, activation='relu'))\n",
        "model.add(Dropout(0.2))\n",
        "model.add(Dense(20, activation='relu'))\n",
        "model.add(Dropout(0.2))\n",
        "model.add(Dense(15, activation='relu'))\n",
        "model.add(Dense(1, activation='sigmoid')) \n",
        "model.compile(loss='binary_crossentropy', optimizer='adam', metrics=['accuracy']) \n",
        "model.summary()\n",
        "hist = model.fit(X_train, y_train, validation_data=(X_test, y_test), epochs=150, batch_size=64)\n"
      ]
    },
    {
      "cell_type": "code",
      "execution_count": null,
      "metadata": {
        "id": "-LPhCIHAnkQa"
      },
      "outputs": [],
      "source": []
    },
    {
      "cell_type": "code",
      "execution_count": null,
      "metadata": {
        "colab": {
          "base_uri": "https://localhost:8080/",
          "height": 318
        },
        "id": "jYrW_l-tgIbM",
        "outputId": "10ee0f3f-e5a6-4333-c238-83801c184391"
      },
      "outputs": [
        {
          "data": {
            "text/plain": [
              "[]"
            ]
          },
          "execution_count": 17,
          "metadata": {},
          "output_type": "execute_result"
        },
        {
          "data": {
            "image/png": "[encoded data removed]",
            "text/plain": [
              "<Figure size 432x288 with 1 Axes>"
            ]
          },
          "metadata": {},
          "output_type": "display_data"
        }
      ],
      "source": [
        "import seaborn as sns\n",
        "import matplotlib.pyplot as plt\n",
        "%matplotlib inline\n",
        "\n",
        "sns.set()\n",
        "acc = hist.history['accuracy']\n",
        "val = hist.history['val_accuracy']\n",
        "epochs = range(1, len(acc) + 1)\n",
        "\n",
        "plt.plot(epochs, acc, '-', label='Training accuracy')\n",
        "plt.plot(epochs, val, ':', label='Validation accuracy')\n",
        "plt.title('Training and Validation Accuracy')\n",
        "plt.xlabel('Epoch')\n",
        "plt.ylabel('Accuracy')\n",
        "plt.legend(loc='lower right')\n",
        "plt.plot()\n",
        "\n",
        "sns.set()\n",
        "loss = hist.history['loss']\n",
        "val = hist.history['val_loss']\n",
        "epochs = range(1, len(loss) + 1)\n",
        "\n",
        "plt.plot(epochs, loss, '-', label='Training loss')\n",
        "plt.plot(epochs, val, ':', label='Validation loss')\n",
        "plt.title('Training and Validation loss')\n",
        "plt.xlabel('Epoch')\n",
        "plt.ylabel('loss#')\n",
        "plt.legend(loc='center right')\n",
        "plt.plot()\n"
      ]
    },
    {
      "cell_type": "code",
      "execution_count": null,
      "metadata": {
        "colab": {
          "base_uri": "https://localhost:8080/"
        },
        "id": "-C4jkl50kDJ3",
        "outputId": "9806417e-7d1a-4702-eabd-f9b53827fa5f"
      },
      "outputs": [
        {
          "name": "stdout",
          "output_type": "stream",
          "text": [
            "216/216 [==============================] - 0s 1ms/step\n",
            "True Positive(TP)  =  4220\n",
            "False Positive(FP) =  147\n",
            "True Negative(TN)  =  2306\n",
            "False Negative(FN) =  220\n",
            "Accuracy of the binary classification = 0.947\n",
            "Precision of the binary classification = 0.966\n",
            "Recall of the binary classification = 0.950\n"
          ]
        }
      ],
      "source": [
        "from sklearn.metrics import confusion_matrix\n",
        "predictions = model.predict(X_test) > 0.5\n",
        "cm = confusion_matrix(y_test, predictions)\n",
        "\n",
        "TN, FP, FN, TP = confusion_matrix(y_test, predictions).ravel()\n",
        "\n",
        "print('True Positive(TP)  = ', TP)\n",
        "print('False Positive(FP) = ', FP)\n",
        "print('True Negative(TN)  = ', TN)\n",
        "print('False Negative(FN) = ', FN)\n",
        "\n",
        "accuracy_keras =  (TP+TN) /(TP+FP+TN+FN)\n",
        "precision_keras =  (TP) /(TP+FP)\n",
        "recall_keras =  (TP) /(TP+FN)\n",
        "\n",
        "print('Accuracy of the binary classification = {:0.3f}'.format(accuracy_keras))\n",
        "print('Precision of the binary classification = {:0.3f}'.format(precision_keras))\n",
        "print('Recall of the binary classification = {:0.3f}'.format(recall_keras))"
      ]
    },
    {
      "cell_type": "code",
      "execution_count": null,
      "metadata": {
        "colab": {
          "base_uri": "https://localhost:8080/",
          "height": 320
        },
        "id": "gEM1lRC3gezF",
        "outputId": "3bbb23d9-0e18-4486-d03b-508e5a27ec50"
      },
      "outputs": [
        {
          "name": "stdout",
          "output_type": "stream",
          "text": [
            "216/216 [==============================] - 0s 1ms/step\n"
          ]
        },
        {
          "data": {
            "text/plain": [
              "Text(89.18, 0.5, 'Actual label')"
            ]
          },
          "execution_count": 19,
          "metadata": {},
          "output_type": "execute_result"
        },
        {
          "data": {
            "image/png": "[encoded data removed]",
            "text/plain": [
              "<Figure size 432x288 with 1 Axes>"
            ]
          },
          "metadata": {},
          "output_type": "display_data"
        }
      ],
      "source": [
        "from sklearn.metrics import confusion_matrix\n",
        "\n",
        "y_predicted = model.predict(X_test) > 0.5\n",
        "mat = confusion_matrix(y_test, y_predicted)\n",
        "labels = ['0', '1']\n",
        "\n",
        "sns.heatmap(mat, square=True, annot=True, fmt='d', cbar=False, cmap='Blues',\n",
        "            xticklabels=labels, yticklabels=labels)\n",
        "\n",
        "plt.xlabel('Predicted label')\n",
        "plt.ylabel('Actual label')"
      ]
    },
    {
      "cell_type": "code",
      "execution_count": null,
      "metadata": {
        "colab": {
          "base_uri": "https://localhost:8080/",
          "height": 300
        },
        "id": "aGZEovrmhFW2",
        "outputId": "b1e9a19e-812d-44ba-8726-7574ce5086ba"
      },
      "outputs": [
        {
          "data": {
            "text/html": [
              "\n",
              "  <div id=\"df-fcc26549-07f7-4b1d-83de-7e5e8426b04d\">\n",
              "    <div class=\"colab-df-container\">\n",
              "      <div>\n",
              "<style scoped>\n",
              "    .dataframe tbody tr th:only-of-type {\n",
              "        vertical-align: middle;\n",
              "    }\n",
              "\n",
              "    .dataframe tbody tr th {\n",
              "        vertical-align: top;\n",
              "    }\n",
              "\n",
              "    .dataframe thead th {\n",
              "        text-align: right;\n",
              "    }\n",
              "</style>\n",
              "<table border=\"1\" class=\"dataframe\">\n",
              "  <thead>\n",
              "    <tr style=\"text-align: right;\">\n",
              "      <th></th>\n",
              "      <th>Accuracy</th>\n",
              "      <th>Precision</th>\n",
              "      <th>Recall</th>\n",
              "    </tr>\n",
              "  </thead>\n",
              "  <tbody>\n",
              "    <tr>\n",
              "      <th>GradientBoosting</th>\n",
              "      <td>0.947773</td>\n",
              "      <td>0.953604</td>\n",
              "      <td>0.964904</td>\n",
              "    </tr>\n",
              "    <tr>\n",
              "      <th>Logistic Regression</th>\n",
              "      <td>0.934571</td>\n",
              "      <td>0.930631</td>\n",
              "      <td>0.966550</td>\n",
              "    </tr>\n",
              "    <tr>\n",
              "      <th>Support Vector Machines</th>\n",
              "      <td>0.935297</td>\n",
              "      <td>0.926577</td>\n",
              "      <td>0.971658</td>\n",
              "    </tr>\n",
              "    <tr>\n",
              "      <th>Decision Trees</th>\n",
              "      <td>0.915857</td>\n",
              "      <td>0.936486</td>\n",
              "      <td>0.933124</td>\n",
              "    </tr>\n",
              "    <tr>\n",
              "      <th>Random Forest</th>\n",
              "      <td>0.948644</td>\n",
              "      <td>0.953153</td>\n",
              "      <td>0.966651</td>\n",
              "    </tr>\n",
              "    <tr>\n",
              "      <th>Naive Bayes</th>\n",
              "      <td>0.877992</td>\n",
              "      <td>0.820495</td>\n",
              "      <td>0.988066</td>\n",
              "    </tr>\n",
              "    <tr>\n",
              "      <th>K-Nearest Neighbor</th>\n",
              "      <td>0.888873</td>\n",
              "      <td>0.884234</td>\n",
              "      <td>0.939684</td>\n",
              "    </tr>\n",
              "    <tr>\n",
              "      <th>DNN</th>\n",
              "      <td>0.946758</td>\n",
              "      <td>0.966338</td>\n",
              "      <td>0.950450</td>\n",
              "    </tr>\n",
              "  </tbody>\n",
              "</table>\n",
              "</div>\n",
              "      <button class=\"colab-df-convert\" onclick=\"convertToInteractive('df-fcc26549-07f7-4b1d-83de-7e5e8426b04d')\"\n",
              "              title=\"Convert this dataframe to an interactive table.\"\n",
              "              style=\"display:none;\">\n",
              "        \n",
              "  <svg xmlns=\"http://www.w3.org/2000/svg\" height=\"24px\"viewBox=\"0 0 24 24\"\n",
              "       width=\"24px\">\n",
              "    <path d=\"M0 0h24v24H0V0z\" fill=\"none\"/>\n",
              "    <path d=\"M18.56 5.44l.94 2.06.94-2.06 2.06-.94-2.06-.94-.94-2.06-.94 2.06-2.06.94zm-11 1L8.5 8.5l.94-2.06 2.06-.94-2.06-.94L8.5 2.5l-.94 2.06-2.06.94zm10 10l.94 2.06.94-2.06 2.06-.94-2.06-.94-.94-2.06-.94 2.06-2.06.94z\"/><path d=\"M17.41 7.96l-1.37-1.37c-.4-.4-.92-.59-1.43-.59-.52 0-1.04.2-1.43.59L10.3 9.45l-7.72 7.72c-.78.78-.78 2.05 0 2.83L4 21.41c.39.39.9.59 1.41.59.51 0 1.02-.2 1.41-.59l7.78-7.78 2.81-2.81c.8-.78.8-2.07 0-2.86zM5.41 20L4 18.59l7.72-7.72 1.47 1.35L5.41 20z\"/>\n",
              "  </svg>\n",
              "      </button>\n",
              "      \n",
              "  <style>\n",
              "    .colab-df-container {\n",
              "      display:flex;\n",
              "      flex-wrap:wrap;\n",
              "      gap: 12px;\n",
              "    }\n",
              "\n",
              "    .colab-df-convert {\n",
              "      background-color: #E8F0FE;\n",
              "      border: none;\n",
              "      border-radius: 50%;\n",
              "      cursor: pointer;\n",
              "      display: none;\n",
              "      fill: #1967D2;\n",
              "      height: 32px;\n",
              "      padding: 0 0 0 0;\n",
              "      width: 32px;\n",
              "    }\n",
              "\n",
              "    .colab-df-convert:hover {\n",
              "      background-color: #E2EBFA;\n",
              "      box-shadow: 0px 1px 2px rgba(60, 64, 67, 0.3), 0px 1px 3px 1px rgba(60, 64, 67, 0.15);\n",
              "      fill: #174EA6;\n",
              "    }\n",
              "\n",
              "    [theme=dark] .colab-df-convert {\n",
              "      background-color: #3B4455;\n",
              "      fill: #D2E3FC;\n",
              "    }\n",
              "\n",
              "    [theme=dark] .colab-df-convert:hover {\n",
              "      background-color: #434B5C;\n",
              "      box-shadow: 0px 1px 3px 1px rgba(0, 0, 0, 0.15);\n",
              "      filter: drop-shadow(0px 1px 2px rgba(0, 0, 0, 0.3));\n",
              "      fill: #FFFFFF;\n",
              "    }\n",
              "  </style>\n",
              "\n",
              "      <script>\n",
              "        const buttonEl =\n",
              "          document.querySelector('#df-fcc26549-07f7-4b1d-83de-7e5e8426b04d button.colab-df-convert');\n",
              "        buttonEl.style.display =\n",
              "          google.colab.kernel.accessAllowed ? 'block' : 'none';\n",
              "\n",
              "        async function convertToInteractive(key) {\n",
              "          const element = document.querySelector('#df-fcc26549-07f7-4b1d-83de-7e5e8426b04d');\n",
              "          const dataTable =\n",
              "            await google.colab.kernel.invokeFunction('convertToInteractive',\n",
              "                                                     [key], {});\n",
              "          if (!dataTable) return;\n",
              "\n",
              "          const docLinkHtml = 'Like what you see? Visit the ' +\n",
              "            '<a target=\"_blank\" href=https://colab.research.google.com/notebooks/data_table.ipynb>data table notebook</a>'\n",
              "            + ' to learn more about interactive tables.';\n",
              "          element.innerHTML = '';\n",
              "          dataTable['output_type'] = 'display_data';\n",
              "          await google.colab.output.renderOutput(dataTable, element);\n",
              "          const docLink = document.createElement('div');\n",
              "          docLink.innerHTML = docLinkHtml;\n",
              "          element.appendChild(docLink);\n",
              "        }\n",
              "      </script>\n",
              "    </div>\n",
              "  </div>\n",
              "  "
            ],
            "text/plain": [
              "                         Accuracy  Precision    Recall\n",
              "GradientBoosting         0.947773   0.953604  0.964904\n",
              "Logistic Regression      0.934571   0.930631  0.966550\n",
              "Support Vector Machines  0.935297   0.926577  0.971658\n",
              "Decision Trees           0.915857   0.936486  0.933124\n",
              "Random Forest            0.948644   0.953153  0.966651\n",
              "Naive Bayes              0.877992   0.820495  0.988066\n",
              "K-Nearest Neighbor       0.888873   0.884234  0.939684\n",
              "DNN                      0.946758   0.966338  0.950450"
            ]
          },
          "execution_count": 20,
          "metadata": {},
          "output_type": "execute_result"
        }
      ],
      "source": [
        "import pandas as pd\n",
        "\n",
        "df_model = pd.DataFrame(index=models.keys(), columns=['Accuracy', 'Precision', 'Recall'])\n",
        "df_model['Accuracy'] = accuracy.values()\n",
        "df_model['Precision'] = precision.values()\n",
        "df_model['Recall'] = recall.values()\n",
        "\n",
        "df_model\n",
        "\n",
        "DNN = {'Accuracy':accuracy_keras,'Precision':precision_keras,'Recall':recall_keras}\n",
        "#append row to the dataframe\n",
        "df_model = df_model.append(DNN, ignore_index=True)\n",
        "df_model.index = ['GradientBoosting','Logistic Regression', 'Support Vector Machines', 'Decision Trees', 'Random Forest','Naive Bayes','K-Nearest Neighbor','DNN']\n",
        "df_model\n",
        "\n"
      ]
    },
    {
      "cell_type": "code",
      "execution_count": null,
      "metadata": {
        "colab": {
          "base_uri": "https://localhost:8080/",
          "height": 293
        },
        "id": "J8SKqRHBoXQh",
        "outputId": "d501155a-a19b-464e-ee39-6135a7f53347"
      },
      "outputs": [
        {
          "data": {
            "image/png": "[encoded data removed]",
            "text/plain": [
              "<Figure size 432x288 with 1 Axes>"
            ]
          },
          "metadata": {},
          "output_type": "display_data"
        }
      ],
      "source": [
        "ax  = df_model.plot.bar(rot=45)\n",
        "ax.legend(ncol= len(models.keys()), bbox_to_anchor=(0, 1), loc='lower left', prop={'size': 14})\n",
        "plt.tight_layout()"
      ]
    },
    {
      "cell_type": "code",
      "execution_count": null,
      "metadata": {
        "id": "ORoUTJw-Fsll"
      },
      "outputs": [],
      "source": []
    }
  ],
  "metadata": {
    "colab": {
      "collapsed_sections": [],
      "provenance": [],
      "include_colab_link": true
    },
    "kernelspec": {
      "display_name": "Python 3",
      "language": "python",
      "name": "python3"
    },
    "language_info": {
      "codemirror_mode": {
        "name": "ipython",
        "version": 3
      },
      "file_extension": ".py",
      "mimetype": "text/x-python",
      "name": "python",
      "nbconvert_exporter": "python",
      "pygments_lexer": "ipython3",
      "version": "3.8.8"
    }
  },
  "nbformat": 4,
  "nbformat_minor": 0
}